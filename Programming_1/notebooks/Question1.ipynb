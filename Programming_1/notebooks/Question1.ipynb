{
 "cells": [
  {
   "cell_type": "markdown",
   "id": "107427e3-f41b-488c-a405-35d5a794445a",
   "metadata": {},
   "source": [
    "\n",
    "## Jupyter Notebook Writeup (40 points)\n",
    "Prepare jupyter notebook(s) on your experiments. In the notebook, answer the following questions. “CV” means “cross validated”:"
   ]
  },
  {
   "cell_type": "markdown",
   "id": "c2b50e6e-4887-48c3-824d-59c3a0c25010",
   "metadata": {},
   "source": [
    "# 1. Show the output on each dataset when the depth is set to 1 to 5. Use a separate cell for each dataset. (5 points)"
   ]
  },
  {
   "cell_type": "markdown",
   "id": "68895dd5-c43b-46c3-bcc8-15317f9d43ad",
   "metadata": {},
   "source": [
    "## Ans:-\n",
    "### Importing libraries and setting up Path "
   ]
  },
  {
   "cell_type": "code",
   "execution_count": 1,
   "id": "8d4828b4-0090-4a7c-bc5d-bf9f9d68f759",
   "metadata": {},
   "outputs": [
    {
     "name": "stdout",
     "output_type": "stream",
     "text": [
      "Data path: /mnt/c/Users/ravir/CWRU/ML/Prog_Assignment/Programming_1/440data\n"
     ]
    }
   ],
   "source": [
    "import os\n",
    "import sys\n",
    "import numpy as np\n",
    "\n",
    "# Add the 'src' directory to sys.path\n",
    "cwd = os.getcwd()\n",
    "project_root = os.path.abspath(os.path.join(cwd, '..'))  # Adjust as needed\n",
    "src_path = os.path.join(project_root, 'src')\n",
    "if src_path not in sys.path:\n",
    "    sys.path.append(src_path)\n",
    "\n",
    "# Import dtree function and other necessary components from dtree.py\n",
    "from dtree import dtree, DecisionTree, evaluate_and_print_metrics,parse_c45\n",
    "\n",
    "# Import util if needed\n",
    "import util\n",
    "\n",
    "# For data loading\n",
    "from sting.data import parse_c45\n",
    "\n",
    "# Set data path\n",
    "data_path = os.path.join(project_root, '440data')  # Adjust as needed\n",
    "\n",
    "# Verify the data path\n",
    "print(\"Data path:\", data_path)\n"
   ]
  },
  {
   "cell_type": "markdown",
   "id": "8a0ab89f-1b36-467a-8224-7ed7b7881ce8",
   "metadata": {},
   "source": [
    "## Run experiments for depths from 1 to 5 for *volcanoes* Data Set "
   ]
  },
  {
   "cell_type": "code",
   "execution_count": 2,
   "id": "a3d1ee12-d8f8-406a-a8b1-696c75ea9f40",
   "metadata": {},
   "outputs": [
    {
     "name": "stdout",
     "output_type": "stream",
     "text": [
      "\n",
      "Running experiments on volcanoes dataset:\n",
      "\n",
      "Depth: 1\n",
      "Accuracy: 0.67\n",
      "Size: 3\n",
      "Maximum Depth: 2\n",
      "First Test: chip_11_11 <= 108.0000\n",
      "Second Tests: None\n",
      "\n",
      "Depth: 2\n",
      "Accuracy: 0.76\n",
      "Size: 7\n",
      "Maximum Depth: 3\n",
      "First Test: chip_11_11 <= 108.0000\n",
      "Second Tests: chip_ 8_ 7 <= 138.0000, chip_11_ 6 <= 114.0000\n",
      "\n",
      "Depth: 3\n",
      "Accuracy: 0.77\n",
      "Size: 15\n",
      "Maximum Depth: 4\n",
      "First Test: chip_11_11 <= 108.0000\n",
      "Second Tests: chip_ 8_ 7 <= 138.0000, chip_11_ 6 <= 114.0000\n",
      "\n",
      "Depth: 4\n",
      "Accuracy: 0.81\n",
      "Size: 29\n",
      "Maximum Depth: 5\n",
      "First Test: chip_11_11 <= 108.0000\n",
      "Second Tests: chip_ 8_ 7 <= 138.0000, chip_11_ 6 <= 114.0000\n",
      "\n",
      "Depth: 5\n",
      "Accuracy: 0.84\n",
      "Size: 53\n",
      "Maximum Depth: 6\n",
      "First Test: chip_11_11 <= 108.0000\n",
      "Second Tests: chip_ 8_ 7 <= 138.0000, chip_11_ 6 <= 114.0000\n"
     ]
    }
   ],
   "source": [
    "# Dataset name\n",
    "dataset_name = 'volcanoes'  \n",
    "# Data path for the dataset\n",
    "dataset_path = os.path.join(data_path, dataset_name)\n",
    "\n",
    "# Run experiments for depths from 1 to 5\n",
    "print(f\"\\nRunning experiments on {dataset_name} dataset:\")\n",
    "for depth in range(1, 6):\n",
    "    print(f\"\\nDepth: {depth}\")\n",
    "    dtree(dataset_path, tree_depth_limit=depth, use_cross_validation=False, information_gain=True)"
   ]
  },
  {
   "cell_type": "markdown",
   "id": "7f0d6247-19af-417f-9444-c157e8194137",
   "metadata": {},
   "source": [
    "## Run experiments for depths from 1 to 5 for *spam* Data Set "
   ]
  },
  {
   "cell_type": "code",
   "execution_count": null,
   "id": "726e335e-aeec-4fb6-89e6-cdc2092b2476",
   "metadata": {},
   "outputs": [
    {
     "name": "stdout",
     "output_type": "stream",
     "text": [
      "\n",
      "Running experiments on spam dataset:\n",
      "\n",
      "Depth: 1\n",
      "Accuracy: 0.66\n",
      "Size: 3\n",
      "Maximum Depth: 2\n",
      "First Test: geoDistance <= 2.2623\n",
      "Second Tests: None\n",
      "\n",
      "Depth: 2\n"
     ]
    }
   ],
   "source": [
    "# Dataset name\n",
    "dataset_name = 'spam'  \n",
    "# Data path for the dataset\n",
    "dataset_path = os.path.join(data_path, dataset_name)\n",
    "\n",
    "# Run experiments for depths from 1 to 5\n",
    "print(f\"\\nRunning experiments on {dataset_name} dataset:\")\n",
    "for depth in range(1, 6):\n",
    "    print(f\"\\nDepth: {depth}\")\n",
    "    dtree(dataset_path, tree_depth_limit=depth, use_cross_validation=False, information_gain=False)\n"
   ]
  },
  {
   "cell_type": "markdown",
   "id": "258f4f25-f971-49d2-9baf-6c2c92b9440f",
   "metadata": {},
   "source": [
    "## Run experiments for depths from 1 to 5 for *voting* Data Set "
   ]
  },
  {
   "cell_type": "code",
   "execution_count": 4,
   "id": "2ac39b20-4107-42d7-9e53-5fc0d4681117",
   "metadata": {},
   "outputs": [
    {
     "name": "stdout",
     "output_type": "stream",
     "text": [
      "\n",
      "Running experiments on voting dataset:\n",
      "\n",
      "Depth: 1\n",
      "Accuracy: 0.56\n",
      "Size: 4\n",
      "Maximum Depth: 2\n",
      "First Test: Repealing-the-Job-Killing-Health-Care-Law-Act\n",
      "Second Tests: None\n",
      "\n",
      "Depth: 2\n",
      "Accuracy: 0.55\n",
      "Size: 11\n",
      "Maximum Depth: 3\n",
      "First Test: Repealing-the-Job-Killing-Health-Care-Law-Act\n",
      "Second Tests: Repealing-the-Job-Killing-Health-Care-Law-Act, Protect-Life-Act, Medicare-Decisions-Accountability-Act-of-2012\n",
      "\n",
      "Depth: 3\n",
      "Accuracy: 0.55\n",
      "Size: 23\n",
      "Maximum Depth: 4\n",
      "First Test: Repealing-the-Job-Killing-Health-Care-Law-Act\n",
      "Second Tests: Repealing-the-Job-Killing-Health-Care-Law-Act, Protect-Life-Act, Medicare-Decisions-Accountability-Act-of-2012\n",
      "\n",
      "Depth: 4\n",
      "Accuracy: 0.55\n",
      "Size: 39\n",
      "Maximum Depth: 5\n",
      "First Test: Repealing-the-Job-Killing-Health-Care-Law-Act\n",
      "Second Tests: Repealing-the-Job-Killing-Health-Care-Law-Act, Protect-Life-Act, Medicare-Decisions-Accountability-Act-of-2012\n",
      "\n",
      "Depth: 5\n",
      "Accuracy: 0.55\n",
      "Size: 55\n",
      "Maximum Depth: 6\n",
      "First Test: Repealing-the-Job-Killing-Health-Care-Law-Act\n",
      "Second Tests: Repealing-the-Job-Killing-Health-Care-Law-Act, Protect-Life-Act, Medicare-Decisions-Accountability-Act-of-2012\n"
     ]
    }
   ],
   "source": [
    "# Dataset name\n",
    "dataset_name = 'voting'  # Replace with your dataset name\n",
    "\n",
    "# Data path for the dataset\n",
    "dataset_path = os.path.join(data_path, dataset_name)\n",
    "\n",
    "# Run experiments for depths from 1 to 5\n",
    "print(f\"\\nRunning experiments on {dataset_name} dataset:\")\n",
    "for depth in range(1, 6):\n",
    "    print(f\"\\nDepth: {depth}\")\n",
    "    dtree(dataset_path, tree_depth_limit=depth, use_cross_validation=False, information_gain=True)\n"
   ]
  },
  {
   "cell_type": "code",
   "execution_count": null,
   "id": "52e2d3e6-7cb0-47f1-b772-74c137167be8",
   "metadata": {},
   "outputs": [],
   "source": []
  }
 ],
 "metadata": {
  "kernelspec": {
   "display_name": "Python 3 (ipykernel)",
   "language": "python",
   "name": "python3"
  },
  "language_info": {
   "codemirror_mode": {
    "name": "ipython",
    "version": 3
   },
   "file_extension": ".py",
   "mimetype": "text/x-python",
   "name": "python",
   "nbconvert_exporter": "python",
   "pygments_lexer": "ipython3",
   "version": "3.9.19"
  }
 },
 "nbformat": 4,
 "nbformat_minor": 5
}
