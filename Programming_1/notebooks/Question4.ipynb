{
 "cells": [
  {
   "cell_type": "markdown",
   "id": "34378cc7-f6f9-4617-88b1-c2aa485df03a",
   "metadata": {},
   "source": [
    "4. __Research extension.__ Create one research hypothesis on trees and variations and evaluate it empirically. For example, you might create hypotheses around different split criteria, the optimality of the ID3 algorithm, different ways to handle pruning, etc. Your hypothesis may require you to implement other algorithms beyond the ones above. You will be evaluated on originality, technical strength, insightfulness of the observations you generate and the clarity of your discussion. (20 points)  \n"
   ]
  },
  {
   "cell_type": "markdown",
   "id": "46d00d0b-fc05-48cb-8135-3fbb032a7e1f",
   "metadata": {},
   "source": [
    "### Research Hypothesis (Using Harmonic Mean of Information Gain and Gain Ratio):\n",
    "\n",
    "**Hypothesis:**  \n",
    "_“A decision tree using the harmonic mean of Information Gain (IG) and Gain Ratio (GR) as the split criterion might improve the generalization performance over the test set when compared to using either criterion alone, especially in datasets with mixed nominal and continuous features.”_\n"
   ]
  },
  {
   "cell_type": "markdown",
   "id": "0458787d-187f-4d81-8e33-9e533e2c3163",
   "metadata": {},
   "source": [
    "\n",
    "\n",
    "### Proposed Split Criterion:\n",
    "\n",
    "The split criterion \\( H_{IG, GR} \\) will be defined as the harmonic mean of Information Gain and Gain Ratio:\n",
    "\n",
    "$$\n",
    "H_{IG, GR} = \\frac{2 \\cdot IG \\cdot GR}{IG + GR}\n",
    "$$\n",
    "\n",
    "Where:\n",
    "- \\( IG \\) is the Information Gain of the split.\n",
    "- \\( GR \\) is the Gain Ratio of the split.\n",
    "\n",
    "The harmonic mean naturally handles cases where one value (either IG or GR) is small by limiting the overall value of the criterion, thus ensuring a more balanced decision-making process for splits.\n"
   ]
  },
  {
   "cell_type": "markdown",
   "id": "9fab87af-2bf5-40df-8adc-2cda9c8dec28",
   "metadata": {},
   "source": [
    "\n",
    "### Hypothesis Validation:\n",
    "\n",
    "- **Expected Outcome**: If the harmonic mean of IG and GR consistently improves generalization, particularly at higher tree depths, it would support the hypothesis that a balanced split criterion is better for trees in mixed feature spaces.\n",
    "- **Discussion**: The performance of the harmonic mean split criterion will be compared to that of pure IG and pure GR across various depths and datasets, offering insights into how this balance impacts decision tree performance.\n",
    "."
   ]
  },
  {
   "cell_type": "code",
   "execution_count": 5,
   "id": "0c3eb33e-869f-4b54-afd0-a444baac5f48",
   "metadata": {},
   "outputs": [
    {
     "name": "stdout",
     "output_type": "stream",
     "text": [
      "Data path: /mnt/c/Users/ravir/CWRU/ML/Prog_Assignment/Programming_1/440data\n"
     ]
    }
   ],
   "source": [
    "import os\n",
    "import sys\n",
    "import numpy as np\n",
    "\n",
    "# Add the 'src' directory to sys.path\n",
    "cwd = os.getcwd()\n",
    "project_root = os.path.abspath(os.path.join(cwd, '..'))  # Adjust as needed\n",
    "src_path = os.path.join(project_root, 'src')\n",
    "if src_path not in sys.path:\n",
    "    sys.path.append(src_path)\n",
    "\n",
    "# Import dtree function and other necessary components from dtree.py\n",
    "from dtree import dtree, DecisionTree, evaluate_and_print_metrics,parse_c45\n",
    "\n",
    "# Import util if needed\n",
    "import util\n",
    "\n",
    "# For data loading\n",
    "from sting.data import parse_c45\n",
    "\n",
    "# Set data path\n",
    "data_path = os.path.join(project_root, '440data')  # Adjust as needed\n",
    "\n",
    "# Verify the data path\n",
    "print(\"Data path:\", data_path)\n"
   ]
  },
  {
   "cell_type": "code",
   "execution_count": 16,
   "id": "bf3883c1-e0ee-48f6-9e50-8eb3ff590d85",
   "metadata": {},
   "outputs": [],
   "source": [
    "import dtree\n",
    "from typing import List\n",
    "from sting.data import Feature\n",
    "class HarmonicMeanDecisionTree(DecisionTree):\n",
    "    def __init__(self, schema: List[Feature], max_depth=0, min_gain_threshold=0):\n",
    "        \"\"\"\n",
    "        Initialize the decision tree with the harmonic mean criterion.\n",
    "\n",
    "        Args:\n",
    "            schema: List of Features.\n",
    "            max_depth: Maximum depth of the tree (0 means no limit).\n",
    "            min_gain_threshold: Minimum gain required to continue splitting.\n",
    "        \"\"\"\n",
    "        super().__init__(schema, max_depth, min_gain_threshold=min_gain_threshold)\n",
    "\n",
    "    def _determine_split_criterion(self, y, splits, current_entropy, X_feature=None, threshold=None):\n",
    "        \"\"\"\n",
    "        Determine the split criterion value using the harmonic mean of IG and GR.\n",
    "\n",
    "        Args:\n",
    "            y: Labels of the current node.\n",
    "            splits: Dictionary of splits with indices.\n",
    "            current_entropy: Entropy of the current node.\n",
    "            X_feature: Feature values (required for gain ratio calculation).\n",
    "            threshold: Threshold value for continuous features (required for gain ratio calculation).\n",
    "\n",
    "        Returns:\n",
    "            Tuple containing the harmonic mean criterion value and information gain.\n",
    "        \"\"\"\n",
    "        # Calculate Information Gain (IG)\n",
    "        gain = util.information_gain(y, splits, current_entropy)\n",
    "        \n",
    "        # Calculate Gain Ratio (GR)\n",
    "        if threshold is not None:\n",
    "            # Continuous feature\n",
    "            split_info = self._split_info_continuous(X_feature, threshold)\n",
    "        else:\n",
    "            # Nominal feature\n",
    "            split_info = self._split_info_nominal(X_feature)\n",
    "        \n",
    "        if split_info != 0:\n",
    "            gain_ratio = gain / split_info\n",
    "        else:\n",
    "            gain_ratio = 0\n",
    "\n",
    "        # Calculate the harmonic mean of IG and GR\n",
    "        if gain + gain_ratio > 0:\n",
    "            harmonic_criterion = 2 * gain * gain_ratio / (gain + gain_ratio)\n",
    "        else:\n",
    "            harmonic_criterion = 0  # Avoid division by zero\n",
    "\n",
    "        return harmonic_criterion, gain\n",
    "\n",
    "    def _split_info_nominal(self, X_feature):\n",
    "        \"\"\"\n",
    "        Calculate the split information for nominal features.\n",
    "        \n",
    "        Args:\n",
    "            X_feature: Feature values for the current split.\n",
    "\n",
    "        Returns:\n",
    "            Split information (used for calculating Gain Ratio).\n",
    "        \"\"\"\n",
    "        total_samples = len(X_feature)\n",
    "        _, counts = np.unique(X_feature, return_counts=True)\n",
    "        probabilities = counts / total_samples\n",
    "        return -np.sum(probabilities * np.log2(probabilities + 1e-9))  # Small value added for numerical stability\n",
    "\n",
    "    def _split_info_continuous(self, X_feature, threshold):\n",
    "        \"\"\"\n",
    "        Calculate the split information for continuous features.\n",
    "        \n",
    "        Args:\n",
    "            X_feature: Feature values for the current split.\n",
    "            threshold: The threshold value for splitting continuous features.\n",
    "\n",
    "        Returns:\n",
    "            Split information (used for calculating Gain Ratio).\n",
    "        \"\"\"\n",
    "        total_samples = len(X_feature)\n",
    "        left = X_feature <= threshold\n",
    "        right = X_feature > threshold\n",
    "        counts = np.array([np.sum(left), np.sum(right)])\n",
    "        probabilities = counts / total_samples\n",
    "        return -np.sum(probabilities * np.log2(probabilities + 1e-9))  # Small value added for numerical stability\n",
    "\n"
   ]
  },
  {
   "cell_type": "code",
   "execution_count": 17,
   "id": "44af95bb-4445-44f8-8842-429dd9592425",
   "metadata": {},
   "outputs": [
    {
     "name": "stdout",
     "output_type": "stream",
     "text": [
      "Data path: /mnt/c/Users/ravir/CWRU/ML/Prog_Assignment/Programming_1/440data\n"
     ]
    }
   ],
   "source": [
    "import os\n",
    "import sys\n",
    "import numpy as np\n",
    "\n",
    "# Add the 'src' directory to sys.path\n",
    "cwd = os.getcwd()\n",
    "project_root = os.path.abspath(os.path.join(cwd, '..'))  # Adjust as needed\n",
    "src_path = os.path.join(project_root, 'src')\n",
    "if src_path not in sys.path:\n",
    "    sys.path.append(src_path)\n",
    "\n",
    "# Import dtree function and other necessary components from dtree.py\n",
    "from dtree import dtree, DecisionTree, evaluate_and_print_metrics,parse_c45\n",
    "\n",
    "# Import util if needed\n",
    "import util\n",
    "\n",
    "# For data loading\n",
    "from sting.data import parse_c45\n",
    "\n",
    "# Set data path\n",
    "data_path = os.path.join(project_root, '440data')  # Adjust as needed\n",
    "\n",
    "# Verify the data path\n",
    "print(\"Data path:\", data_path)\n"
   ]
  },
  {
   "cell_type": "code",
   "execution_count": 19,
   "id": "ddd0340a-0080-448a-99e2-aa45d2203f8f",
   "metadata": {},
   "outputs": [],
   "source": [
    "def run_experiment_with_harmonic_mean(dataset_path, dataset_name):\n",
    "    \"\"\"\n",
    "    Run experiments for different tree depths and capture the cross-validation accuracy using the harmonic mean criterion.\n",
    "\n",
    "    Args:\n",
    "        dataset_path: Path to the dataset.\n",
    "        dataset_name: Name of the dataset.\n",
    "\n",
    "    Returns:\n",
    "        List of accuracies for each depth.\n",
    "    \"\"\"\n",
    "    accuracies = []\n",
    "    print(f\"\\nRunning experiments on {dataset_name} dataset using the harmonic mean of IG and GR:\")\n",
    "\n",
    "    # Load the dataset and schema\n",
    "    schema, X, y = parse_c45(dataset_name, os.path.dirname(dataset_path))\n",
    "\n",
    "    # Split the dataset into training and testing sets (using a manual split function)\n",
    "    X_train, X_test, y_train, y_test = manual_train_test_split(X, y, test_size=0.2, random_state=42)\n",
    "\n",
    "    for depth in depths:\n",
    "        print(f\"\\nDepth: {depth}\")\n",
    "        \n",
    "        avg_acc = None\n",
    "        f = io.StringIO()\n",
    "        \n",
    "        with redirect_stdout(f):\n",
    "            # Run the decision tree with the harmonic mean criterion\n",
    "            decision_tree = HarmonicMeanDecisionTree(schema, max_depth=depth)\n",
    "            decision_tree.fit(X_train, y_train)\n",
    "            evaluate_and_print_metrics(decision_tree, X_test, y_test)\n",
    "        \n",
    "        output = f.getvalue()\n",
    "        \n",
    "        # Extract the average accuracy from the output\n",
    "        for line in output.splitlines():\n",
    "            if \"Average Accuracy\" in line:\n",
    "                avg_acc = float(line.split(\":\")[-1].strip())\n",
    "                break\n",
    "        \n",
    "        if avg_acc is not None:\n",
    "            accuracies.append(avg_acc)\n",
    "            print(f\"Depth {depth}: Accuracy {avg_acc:.4f}\")\n",
    "        else:\n",
    "            print(f\"Warning: No accuracy found for depth {depth}\")\n",
    "    \n",
    "    print(f\"Final accuracies: {accuracies}\")\n",
    "    return accuracies\n"
   ]
  },
  {
   "cell_type": "code",
   "execution_count": 20,
   "id": "52f87dbb-4697-46f0-8a95-aea21c78d897",
   "metadata": {},
   "outputs": [
    {
     "name": "stdout",
     "output_type": "stream",
     "text": [
      "\n",
      "Running experiments on volcanoes dataset using the harmonic mean of IG and GR:\n",
      "\n",
      "Depth: 1\n",
      "Warning: No accuracy found for depth 1\n",
      "\n",
      "Depth: 2\n",
      "Warning: No accuracy found for depth 2\n",
      "\n",
      "Depth: 4\n",
      "Warning: No accuracy found for depth 4\n",
      "\n",
      "Depth: 8\n",
      "Warning: No accuracy found for depth 8\n",
      "\n",
      "Depth: 16\n",
      "Warning: No accuracy found for depth 16\n",
      "\n",
      "Depth: 32\n",
      "Warning: No accuracy found for depth 32\n",
      "Final accuracies: []\n"
     ]
    }
   ],
   "source": [
    "\n",
    "# Run experiments for the harmonic mean criterion\n",
    "harmonic_mean_accuracies = run_experiment_with_harmonic_mean(volcanoes_dataset_path, \"volcanoes\")\n",
    "\n"
   ]
  },
  {
   "cell_type": "code",
   "execution_count": null,
   "id": "bac9e009-1bec-4c2c-a31f-eb646e65b9c2",
   "metadata": {},
   "outputs": [],
   "source": [
    "\n",
    "\n",
    "# Plotting the results for the harmonic mean criterion\n",
    "plt.figure(figsize=(10, 6))\n",
    "plt.plot(depths, harmonic_mean_accuracies, label=\"Harmonic Mean of IG and GR\", marker='o', color='purple')\n",
    "plt.xlabel('Tree Depth')\n",
    "plt.ylabel('Cross-Validation Accuracy')\n",
    "plt.title('CV Accuracy vs Tree Depth (Harmonic Mean of IG and GR) - Volcanoes Dataset')\n",
    "plt.xticks(depths)  # Set x-axis ticks to the depth values\n",
    "plt.legend()\n",
    "plt.grid(True)\n",
    "plt.show()\n"
   ]
  },
  {
   "cell_type": "code",
   "execution_count": 5,
   "id": "2f35492f-9808-4652-b440-f24e2f2b055d",
   "metadata": {},
   "outputs": [
    {
     "data": {
      "image/png": "[encoded data removed]",
      "text/plain": [
       "<Figure size 1000x600 with 1 Axes>"
      ]
     },
     "metadata": {},
     "output_type": "display_data"
    }
   ],
   "source": [
    "# Plotting the results for the volcanoes dataset\n",
    "plt.figure(figsize=(10, 6))\n",
    "plt.plot(tested_depths, volcanoes_accuracies, label=\"Spam Dataset\", marker='o')\n",
    "plt.xlabel('Tree Depth')\n",
    "plt.ylabel('Cross-Validation Accuracy')\n",
    "plt.title('CV Accuracy vs Tree Depth for Volcanoes Dataset')\n",
    "plt.xticks(tested_depths)  # Set x-axis ticks to the depth values\n",
    "plt.legend()\n",
    "plt.grid(True)\n",
    "plt.show()"
   ]
  }
 ],
 "metadata": {
  "kernelspec": {
   "display_name": "Python 3 (ipykernel)",
   "language": "python",
   "name": "python3"
  },
  "language_info": {
   "codemirror_mode": {
    "name": "ipython",
    "version": 3
   },
   "file_extension": ".py",
   "mimetype": "text/x-python",
   "name": "python",
   "nbconvert_exporter": "python",
   "pygments_lexer": "ipython3",
   "version": "3.9.19"
  }
 },
 "nbformat": 4,
 "nbformat_minor": 5
}
