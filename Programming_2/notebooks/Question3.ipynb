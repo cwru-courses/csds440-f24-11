{
 "cells": [
  {
   "cell_type": "markdown",
   "id": "f8af7f33-1778-4ed3-ac19-6e7c7aca1cfe",
   "metadata": {},
   "source": [
    "\n",
    "\n",
    "**Hypothesis**: \"\n",
    "Applying Adaptive smoothing base upon the frequency dribution of the observed data ie , varry the smoothing parameter $m$  based upon on features with lower frequencies has **higher smoothing**, while high-frequency has  **lower smoothing**.\n",
    "### Mathematical equatiion\n",
    "\n",
    "let the feature ne represented by $f$ in class $c$:\n",
    "\n",
    "$$\n",
    "P(f \\mid c) = \\frac{\\text{count}(f, c) + m_f}{\\text{count}(c) + m_f \\cdot |V|}\n",
    "$$\n",
    "\n",
    "where:\n",
    "- $m_f$ is the parameter for adaptive smoothing  for feature $f$, depending on the frequency distribution of $f$.\n",
    "\n",
    "I have use the following values for smoothing which can be treated as hyperparameter\n",
    "- For low-frequency features (rare features or categories), set a higher $m_f$ (e.g., $m_f = 1$ or higher).\n",
    "- For high-frequency features, set a lower $m_f$ (e.g., $m_f = 0.1$).\n"
   ]
  }
 ],
 "metadata": {
  "kernelspec": {
   "display_name": "Python 3 (ipykernel)",
   "language": "python",
   "name": "python3"
  },
  "language_info": {
   "codemirror_mode": {
    "name": "ipython",
    "version": 3
   },
   "file_extension": ".py",
   "mimetype": "text/x-python",
   "name": "python",
   "nbconvert_exporter": "python",
   "pygments_lexer": "ipython3",
   "version": "3.9.19"
  }
 },
 "nbformat": 4,
 "nbformat_minor": 5
}
